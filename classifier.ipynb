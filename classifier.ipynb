{
 "cells": [
  {
   "cell_type": "code",
   "execution_count": 15,
   "metadata": {},
   "outputs": [
    {
     "name": "stdout",
     "output_type": "stream",
     "text": [
      "[[22  5]\n",
      " [ 4 69]]\n"
     ]
    }
   ],
   "source": [
    "import pandas as pd\n",
    "import numpy as np\n",
    "import matplotlib.pyplot as plt\n",
    "\n",
    "dataset=pd.read_csv('C:/Users/SATYAJIT/Downloads/Match_Making.csv')\n",
    "\n",
    "labels=dataset.iloc[:,-1].values\n",
    "#print(labels)\n",
    "\n",
    "features=dataset.iloc[:,0:2].values\n",
    "#print(features)\n",
    "\n",
    "from sklearn.model_selection import train_test_split\n",
    "from sklearn.svm import SVC\n",
    "from sklearn.metrics import confusion_matrix\n",
    "\n",
    "features_train,features_test,labels_train,labels_test=train_test_split(features,labels,test_size=0.2)\n",
    "classifier=SVC(kernel='poly')\n",
    "\n",
    "classifier.fit(features_train,labels_train)\n",
    "labels_predict=classifier.predict(features_test)\n",
    "\n",
    "cm=confusion_matrix(labels_test,labels_predict)\n",
    "print(cm)\n",
    "\n",
    "#rbf kernel\n",
    "#array([[19,  2],\n",
    "#       [ 0, 79]], dtype=int64)\n",
    "\n",
    "#poly kernel\n",
    "#array([[15,  2],\n",
    "#       [ 0, 83]], dtype=int64)\n",
    "\n"
   ]
  },
  {
   "cell_type": "code",
   "execution_count": null,
   "metadata": {},
   "outputs": [],
   "source": [
    "\n"
   ]
  },
  {
   "cell_type": "code",
   "execution_count": null,
   "metadata": {},
   "outputs": [],
   "source": []
  }
 ],
 "metadata": {
  "kernelspec": {
   "display_name": "Python 3",
   "language": "python",
   "name": "python3"
  },
  "language_info": {
   "codemirror_mode": {
    "name": "ipython",
    "version": 3
   },
   "file_extension": ".py",
   "mimetype": "text/x-python",
   "name": "python",
   "nbconvert_exporter": "python",
   "pygments_lexer": "ipython3",
   "version": "3.7.6"
  }
 },
 "nbformat": 4,
 "nbformat_minor": 4
}
